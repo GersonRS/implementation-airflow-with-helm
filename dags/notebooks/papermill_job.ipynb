{
 "cells": [
  {
   "cell_type": "code",
   "execution_count": 1,
   "metadata": {},
   "outputs": [],
   "source": [
    "!pip install -U scikit-learn numpy"
   ]
  },
  {
   "cell_type": "code",
   "execution_count": null,
   "metadata": {},
   "outputs": [],
   "source": [
    "from sklearn.datasets import load_iris\n",
    "from sklearn import tree\n",
    "from sklearn.metrics import accuracy_score\n",
    "import numpy as np\n",
    "\n",
    "#loading the iris dataset\n",
    "iris = load_iris()\n",
    "\n",
    "x = iris.data #array of the data\n",
    "y = iris.target #array of labels (i.e answers) of each data entry\n",
    "\n",
    "#getting label names i.e the three flower species\n",
    "y_names = iris.target_names\n",
    "\n",
    "#taking random indices to split the dataset into train and test\n",
    "test_ids = np.random.permutation(len(x))\n",
    "\n",
    "#splitting data and labels into train and test\n",
    "#keeping last 10 entries for testing, rest for training\n",
    "\n",
    "x_train = x[test_ids[:-10]]\n",
    "x_test = x[test_ids[-10:]]\n",
    "\n",
    "y_train = y[test_ids[:-10]]\n",
    "y_test = y[test_ids[-10:]]\n",
    "\n",
    "#classifying using decision tree\n",
    "clf = tree.DecisionTreeClassifier()\n",
    "\n",
    "#training (fitting) the classifier with the training set\n",
    "clf.fit(x_train, y_train)\n",
    "\n",
    "#predictions on the test dataset\n",
    "pred = clf.predict(x_test)\n",
    "\n",
    "print(pred) #predicted labels i.e flower species\n",
    "print(y_test) #actual labels\n",
    "print( accuracy_score(pred, y_test) * 100 ) #prediction accuracy"
   ]
  }
 ],
 "metadata": {
  "interpreter": {
   "hash": "702cd65d69d297efd599fd597c6c5b93ac3d40101de32dc425b01e93b0dc60cc"
  },
  "kernelspec": {
   "display_name": "Python 3.8.0 64-bit",
   "language": "python",
   "name": "python3"
  },
  "language_info": {
   "codemirror_mode": {
    "name": "ipython",
    "version": 3
   },
   "file_extension": ".py",
   "mimetype": "text/x-python",
   "name": "python",
   "nbconvert_exporter": "python",
   "pygments_lexer": "ipython3",
   "version": "3.8.0"
  },
  "orig_nbformat": 4
 },
 "nbformat": 4,
 "nbformat_minor": 2
}
